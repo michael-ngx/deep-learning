{
  "cells": [
    {
      "cell_type": "markdown",
      "metadata": {
        "id": "_bphECiUa9zw"
      },
      "source": [
        "# Lab 5: Spam Detection\n",
        "\n",
        "In this assignment, we will build a recurrent neural network to classify a SMS text message\n",
        "as \"spam\" or \"not spam\". In the process, you will\n",
        "    \n",
        "1. Clean and process text data for machine learning.\n",
        "2. Understand and implement a character-level recurrent neural network.\n",
        "3. Use torchtext to build recurrent neural network models.\n",
        "4. Understand batching for a recurrent neural network, and use torchtext to implement RNN batching.\n",
        "\n",
        "### What to submit\n",
        "\n",
        "Submit a PDF file containing all your code, outputs, and write-up. You can produce a PDF of your Google Colab file by going to File > Print and then save as PDF. The Colab instructions have more information.\n",
        "\n",
        "Do not submit any other files produced by your code.\n",
        "\n",
        "Include a link to your colab file in your submission."
      ]
    },
    {
      "cell_type": "markdown",
      "metadata": {
        "id": "rWiUqJJTa9z6"
      },
      "source": [
        "## Colab Link\n",
        "\n",
        "Include a link to your Colab file here. If you would like the TA to look at your\n",
        "Colab file in case your solutions are cut off, **please make sure that your Colab\n",
        "file is publicly accessible at the time of submission**."
      ]
    },
    {
      "cell_type": "markdown",
      "metadata": {
        "id": "i-638zllDTuF"
      },
      "source": [
        "Colab Link: https://drive.google.com/file/d/1kNhM93RGWKUBIZ2lBv1dZUf1sD8X73yV/view?usp=sharing"
      ]
    },
    {
      "cell_type": "markdown",
      "metadata": {
        "id": "qimIw-6oDTuF"
      },
      "source": [
        "As we are using the older version of the torchtext, please run the following to downgrade the torchtext version:"
      ]
    },
    {
      "cell_type": "markdown",
      "metadata": {
        "scrolled": false,
        "id": "fHiFA7slDTuF"
      },
      "source": []
    },
    {
      "cell_type": "markdown",
      "metadata": {
        "id": "P5v3jxI2DTuG"
      },
      "source": [
        "If you are interested to use the most recent version if torchtext, you can look at the following document to see how to convert the legacy version to the new version:\n",
        "https://colab.research.google.com/github/pytorch/text/blob/master/examples/legacy_tutorial/migration_tutorial.ipynb"
      ]
    },
    {
      "cell_type": "code",
      "execution_count": null,
      "metadata": {
        "id": "seFLmyWiDTuG",
        "outputId": "6d0fc772-d4dc-4599-8564-cf0ceb458b9c"
      },
      "outputs": [
        {
          "name": "stdout",
          "output_type": "stream",
          "text": [
            "Defaulting to user installation because normal site-packages is not writeable\n",
            "Collecting torchtext==0.6\n",
            "  Downloading torchtext-0.6.0-py3-none-any.whl (64 kB)\n",
            "Requirement already satisfied: requests in c:\\programdata\\anaconda3\\lib\\site-packages (from torchtext==0.6) (2.27.1)\n",
            "Requirement already satisfied: tqdm in c:\\programdata\\anaconda3\\lib\\site-packages (from torchtext==0.6) (4.64.0)\n",
            "Collecting sentencepiece\n",
            "  Downloading sentencepiece-0.1.99-cp39-cp39-win_amd64.whl (977 kB)\n",
            "Requirement already satisfied: numpy in c:\\programdata\\anaconda3\\lib\\site-packages (from torchtext==0.6) (1.21.5)\n",
            "Requirement already satisfied: six in c:\\programdata\\anaconda3\\lib\\site-packages (from torchtext==0.6) (1.16.0)\n",
            "Requirement already satisfied: torch in c:\\programdata\\anaconda3\\lib\\site-packages (from torchtext==0.6) (2.1.0)\n",
            "Requirement already satisfied: urllib3<1.27,>=1.21.1 in c:\\programdata\\anaconda3\\lib\\site-packages (from requests->torchtext==0.6) (1.26.9)\n",
            "Requirement already satisfied: charset-normalizer~=2.0.0 in c:\\programdata\\anaconda3\\lib\\site-packages (from requests->torchtext==0.6) (2.0.4)\n",
            "Requirement already satisfied: idna<4,>=2.5 in c:\\programdata\\anaconda3\\lib\\site-packages (from requests->torchtext==0.6) (3.3)\n",
            "Requirement already satisfied: certifi>=2017.4.17 in c:\\programdata\\anaconda3\\lib\\site-packages (from requests->torchtext==0.6) (2021.10.8)\n",
            "Requirement already satisfied: filelock in c:\\programdata\\anaconda3\\lib\\site-packages (from torch->torchtext==0.6) (3.6.0)\n",
            "Requirement already satisfied: typing-extensions in c:\\programdata\\anaconda3\\lib\\site-packages (from torch->torchtext==0.6) (4.1.1)\n",
            "Requirement already satisfied: sympy in c:\\programdata\\anaconda3\\lib\\site-packages (from torch->torchtext==0.6) (1.10.1)\n",
            "Requirement already satisfied: networkx in c:\\programdata\\anaconda3\\lib\\site-packages (from torch->torchtext==0.6) (2.7.1)\n",
            "Requirement already satisfied: jinja2 in c:\\programdata\\anaconda3\\lib\\site-packages (from torch->torchtext==0.6) (2.11.3)\n",
            "Requirement already satisfied: fsspec in c:\\programdata\\anaconda3\\lib\\site-packages (from torch->torchtext==0.6) (2022.2.0)\n",
            "Requirement already satisfied: MarkupSafe>=0.23 in c:\\programdata\\anaconda3\\lib\\site-packages (from jinja2->torch->torchtext==0.6) (2.0.1)\n",
            "Requirement already satisfied: mpmath>=0.19 in c:\\programdata\\anaconda3\\lib\\site-packages (from sympy->torch->torchtext==0.6) (1.2.1)\n",
            "Requirement already satisfied: colorama in c:\\programdata\\anaconda3\\lib\\site-packages (from tqdm->torchtext==0.6) (0.4.4)\n",
            "Installing collected packages: sentencepiece, torchtext\n",
            "Successfully installed sentencepiece-0.1.99 torchtext-0.6.0\n"
          ]
        }
      ],
      "source": [
        "!pip install torchtext==0.6"
      ]
    },
    {
      "cell_type": "code",
      "execution_count": null,
      "metadata": {
        "id": "pQbXUoH0DTuI",
        "outputId": "a9831764-ffdb-4c34-eac0-6f0ffee12d10"
      },
      "outputs": [
        {
          "name": "stdout",
          "output_type": "stream",
          "text": [
            "2.1.0\n",
            "0.6.0\n"
          ]
        }
      ],
      "source": [
        "import torch\n",
        "import torchtext\n",
        "print(torch.__version__)\n",
        "print(torchtext.__version__)"
      ]
    },
    {
      "cell_type": "code",
      "execution_count": null,
      "metadata": {
        "id": "HgfNOUaPa9z8",
        "tags": []
      },
      "outputs": [],
      "source": [
        "import torch.nn as nn\n",
        "import torch.nn.functional as F\n",
        "import torch.optim as optim\n",
        "import numpy as np"
      ]
    },
    {
      "cell_type": "code",
      "execution_count": null,
      "metadata": {
        "id": "8eYWG7BkDTuI"
      },
      "outputs": [],
      "source": [
        "from torchtext.data import Field, TabularDataset"
      ]
    },
    {
      "cell_type": "code",
      "execution_count": null,
      "metadata": {
        "id": "Ax0GWO2-DTuJ",
        "outputId": "c281909a-32b9-4663-e8b9-1d500823c2d4"
      },
      "outputs": [
        {
          "data": {
            "text/plain": [
              "<torch._C.Generator at 0x13cc5243c70>"
            ]
          },
          "execution_count": 5,
          "metadata": {},
          "output_type": "execute_result"
        }
      ],
      "source": [
        "torch.manual_seed(10)"
      ]
    },
    {
      "cell_type": "markdown",
      "metadata": {
        "id": "M0jLI9LBa90C"
      },
      "source": [
        "## Part 1. Data Cleaning [15 pt]\n",
        "\n",
        "We will be using the \"SMS Spam Collection Data Set\" available at http://archive.ics.uci.edu/ml/datasets/SMS+Spam+Collection\n",
        "\n",
        "There is a link to download the \"Data Folder\" at the very top of the webpage. Download the zip file, unzip it, and upload the file `SMSSpamCollection` to Colab.    "
      ]
    },
    {
      "cell_type": "markdown",
      "metadata": {
        "id": "sSuF7C_Ga90E"
      },
      "source": [
        "### Part (a) [2 pt]\n",
        "\n",
        "Open up the file in Python, and print out one example of a spam SMS, and one example of a non-spam SMS.\n",
        "\n",
        "What is the label value for a spam message, and what is the label value for a non-spam message?"
      ]
    },
    {
      "cell_type": "code",
      "execution_count": null,
      "metadata": {
        "id": "I_IfXHeTa90F",
        "jupyter": {
          "outputs_hidden": true
        },
        "outputId": "a9cd6e6a-2966-489e-8939-1efd8cfec783"
      },
      "outputs": [
        {
          "name": "stdout",
          "output_type": "stream",
          "text": [
            "ham\tGo until jurong point, crazy.. Available only in bugis n great world la e buffet... Cine there got amore wat...\n",
            "\n",
            "spam\tFree entry in 2 a wkly comp to win FA Cup final tkts 21st May 2005. Text FA to 87121 to receive entry question(std txt rate)T&C's apply 08452810075over18's\n",
            "\n"
          ]
        }
      ],
      "source": [
        "nospam = False\n",
        "spam = False\n",
        "\n",
        "for line in open(\"C:/Users/Admin/Downloads/SMSSpamCollection\"):\n",
        "    if (line[0] == 'h' and not nospam):\n",
        "        print(line)\n",
        "        nospam = True\n",
        "    if (line[0] == 's' and not spam):\n",
        "        print(line)\n",
        "        spam = True\n",
        "    if (nospam and spam):\n",
        "        break\n",
        ""
      ]
    },
    {
      "cell_type": "markdown",
      "metadata": {
        "id": "rU2AMHMrDTuJ"
      },
      "source": [
        "The label value for a spam message is 'spam'  \n",
        "The label value for a non-spam message is 'ham'"
      ]
    },
    {
      "cell_type": "markdown",
      "metadata": {
        "id": "AukA6vMVa90d"
      },
      "source": [
        "### Part (b) [1 pt]\n",
        "\n",
        "How many spam messages are there in the data set?\n",
        "How many non-spam messages are there in the data set?\n"
      ]
    },
    {
      "cell_type": "code",
      "execution_count": null,
      "metadata": {
        "id": "LgsqyemVa90e",
        "jupyter": {
          "outputs_hidden": true
        },
        "outputId": "1c6f5e52-3ce8-4e56-f82e-d3f70ba10ed2"
      },
      "outputs": [
        {
          "name": "stdout",
          "output_type": "stream",
          "text": [
            "Spam:  747\n",
            "Non-spam:  4827\n"
          ]
        }
      ],
      "source": [
        "spam = 0\n",
        "ham = 0\n",
        "\n",
        "for line in open(\"C:/Users/Admin/Downloads/SMSSpamCollection\"):\n",
        "    if (line[0] == 'h'):\n",
        "        ham += 1\n",
        "    elif (line[0] == 's'):\n",
        "        spam += 1\n",
        "\n",
        "print(\"Spam: \", spam)\n",
        "print(\"Non-spam: \", ham)"
      ]
    },
    {
      "cell_type": "markdown",
      "metadata": {
        "id": "d1WXxVt6a90h"
      },
      "source": [
        "### Part (c) [4 pt]\n",
        "\n",
        "We will be using the package `torchtext` to load, process, and batch the data.\n",
        "A tutorial to torchtext is available below. This tutorial uses the same\n",
        "Sentiment140 data set that we explored during lecture.\n",
        "\n",
        "https://medium.com/@sonicboom8/sentiment-analysis-torchtext-55fb57b1fab8\n",
        "\n",
        "Unlike what we did during lecture, we will be building a **character level RNN**.\n",
        "That is, we will treat each **character** as a token in our sequence,\n",
        "rather than each **word**.\n",
        "\n",
        "Identify two advantage and two disadvantage of modelling SMS text\n",
        "messages as a sequence of characters rather than a sequence of words."
      ]
    },
    {
      "cell_type": "markdown",
      "source": [
        "#### Advantage:\n",
        "- There are less characters than words (combination of characters) in English. Therefore, we will need less storage to store the embeddings\n",
        "- In messages, there may be mis-spellings. Therefore, a model built on characters will be trained on more information and will be less vulnerable to such events (can possibly recognize a mis-spelled word instead of ignoring the entire word like in word-trained models)\n",
        "\n",
        "#### Disadvantage:\n",
        "- RNN layer uses \"history\" to create a reresentation of the input to Linear layers. The history is used to relate words that may be far away from each other. On the other hand, using characters to train may make it more difficult to recognize such dependence, since the scope of using characters is too small.\n",
        "- The model will probably take more time to train, as we are going into a higher level of details (more characters in a sentence compared to words in a sentence)."
      ],
      "metadata": {
        "id": "iqvhONlDEiOH"
      }
    },
    {
      "cell_type": "markdown",
      "metadata": {
        "id": "ie_D0bv9a90k"
      },
      "source": [
        "### Part (d) [1 pt]\n",
        "\n",
        "We will be loading our data set using `torchtext.data.TabularDataset`. The\n",
        "constructor will read directly from the `SMSSpamCollection` file.\n",
        "\n",
        "For the data file to be read successfuly, we\n",
        "need to specify the **fields** (columns) in the file.\n",
        "In our case, the dataset has two fields:\n",
        "\n",
        "- a text field containing the sms messages,\n",
        "- a label field which will be converted into a binary label.\n",
        "\n",
        "Split the dataset into `train`, `valid`, and `test`. Use a 60-20-20 split.\n",
        "You may find this torchtext API page helpful:\n",
        "https://torchtext.readthedocs.io/en/latest/data.html#dataset\n",
        "\n",
        "Hint: There is a `Dataset` method that can perform the random split for you."
      ]
    },
    {
      "cell_type": "code",
      "execution_count": null,
      "metadata": {
        "id": "FQWDlEoTDTuK"
      },
      "outputs": [],
      "source": [
        "import torchtext\n",
        "\n",
        "text_field = torchtext.data.Field(sequential=True, tokenize=lambda x: x,\n",
        "                           include_lengths=True, batch_first=True,\n",
        "                           use_vocab=True)\n",
        "label = torchtext.data.Field(sequential=False, preprocessing=lambda x: int(x == 'spam'),\n",
        "                             use_vocab=False, batch_first=True,\n",
        "                             is_target=True)\n",
        "\n",
        "dataset = torchtext.data.TabularDataset(\"C:/Users/Admin/Downloads/SMSSpamCollection\",\n",
        "                                        \"tsv\",\n",
        "                                        [('label', label), ('sms', text_field)])\n",
        "\n",
        "train_set, valid_set, test_set = dataset.split(split_ratio=[0.6,0.2,0.2])"
      ]
    },
    {
      "cell_type": "code",
      "execution_count": null,
      "metadata": {
        "id": "mi6PWpXRDTuK",
        "outputId": "a6ab5f08-5538-4f8f-947e-05feac1c7046"
      },
      "outputs": [
        {
          "data": {
            "text/plain": [
              "0"
            ]
          },
          "execution_count": 10,
          "metadata": {},
          "output_type": "execute_result"
        }
      ],
      "source": [
        "dataset[0].label"
      ]
    },
    {
      "cell_type": "code",
      "execution_count": null,
      "metadata": {
        "id": "i5o6atsYDTuL",
        "outputId": "259a348f-6f69-4882-9bd1-f818a5bb8ef2"
      },
      "outputs": [
        {
          "data": {
            "text/plain": [
              "'Go until jurong point, crazy.. Available only in bugis n great world la e buffet... Cine there got amore wat...'"
            ]
          },
          "execution_count": 11,
          "metadata": {},
          "output_type": "execute_result"
        }
      ],
      "source": [
        "dataset[0].sms"
      ]
    },
    {
      "cell_type": "code",
      "execution_count": null,
      "metadata": {
        "id": "PjhnhSUHDTuL",
        "outputId": "d598abfb-b60b-449a-899a-52263b6962b0"
      },
      "outputs": [
        {
          "name": "stdout",
          "output_type": "stream",
          "text": [
            "5572\n",
            "3343\n",
            "1115\n",
            "1114\n"
          ]
        }
      ],
      "source": [
        "print(len(dataset))\n",
        "print(len(train_set))\n",
        "print(len(valid_set))\n",
        "print(len(test_set))"
      ]
    },
    {
      "cell_type": "markdown",
      "metadata": {
        "id": "v6nP0Ks_a90o"
      },
      "source": [
        "### Part (e) [2 pt]\n",
        "\n",
        "You saw in part (b) that there are many more non-spam messages than spam messages.\n",
        "This **imbalance** in our training data will be problematic for training.\n",
        "We can fix this disparity by duplicating spam messages in the training set,\n",
        "so that the training set is roughly **balanced**.\n",
        "\n",
        "Explain why having a balanced training set is helpful for training our neural network.\n",
        "\n",
        "Note: if you are not sure, try removing the below code and train your mode."
      ]
    },
    {
      "cell_type": "code",
      "execution_count": null,
      "metadata": {
        "id": "FWvx9_rka90p",
        "jupyter": {
          "outputs_hidden": true
        }
      },
      "outputs": [],
      "source": [
        "# save the original training examples\n",
        "old_train_examples = train_set.examples\n",
        "# get all the spam messages in `train`\n",
        "train_spam = []\n",
        "for item in train_set.examples:\n",
        "    if item.label == 1:\n",
        "        train_spam.append(item)\n",
        "# duplicate each spam message 6 more times\n",
        "train_set.examples = old_train_examples + train_spam * 6"
      ]
    },
    {
      "cell_type": "code",
      "execution_count": null,
      "metadata": {
        "id": "ZWhpaKPVDTuL",
        "outputId": "20274f0c-599f-481e-df9d-6628dc11d737"
      },
      "outputs": [
        {
          "name": "stdout",
          "output_type": "stream",
          "text": [
            "3185 2888\n"
          ]
        }
      ],
      "source": [
        "spamCount = 0\n",
        "okCount = 0\n",
        "for item in train_set.examples:\n",
        "    if item.label == 1:\n",
        "        spamCount += 1\n",
        "    else:\n",
        "        okCount += 1\n",
        "\n",
        "print(spamCount, okCount)"
      ]
    },
    {
      "cell_type": "markdown",
      "metadata": {
        "id": "j7eUmBEva90r"
      },
      "source": [
        "### Part (f) [1 pt]\n",
        "\n",
        "We need to build the vocabulary on the training data by running the below code.\n",
        "This finds all the possible character tokens in the training set.\n",
        "\n",
        "Explain what the variables `text_field.vocab.stoi` and `text_field.vocab.itos` represent."
      ]
    },
    {
      "cell_type": "code",
      "execution_count": null,
      "metadata": {
        "id": "8CQM8flKa90s",
        "jupyter": {
          "outputs_hidden": true
        },
        "outputId": "ba60d4c3-aa2c-4002-ce52-c86651269451"
      },
      "outputs": [
        {
          "data": {
            "text/plain": [
              "defaultdict(<bound method Vocab._default_unk_index of <torchtext.vocab.Vocab object at 0x0000013CCDF7DE50>>,\n",
              "            {'<unk>': 0,\n",
              "             '<pad>': 1,\n",
              "             ' ': 2,\n",
              "             'e': 3,\n",
              "             'o': 4,\n",
              "             't': 5,\n",
              "             'a': 6,\n",
              "             'n': 7,\n",
              "             'r': 8,\n",
              "             'i': 9,\n",
              "             's': 10,\n",
              "             'l': 11,\n",
              "             'u': 12,\n",
              "             'h': 13,\n",
              "             'd': 14,\n",
              "             '0': 15,\n",
              "             'c': 16,\n",
              "             '.': 17,\n",
              "             'm': 18,\n",
              "             'y': 19,\n",
              "             'w': 20,\n",
              "             'p': 21,\n",
              "             'g': 22,\n",
              "             '1': 23,\n",
              "             'f': 24,\n",
              "             'b': 25,\n",
              "             '2': 26,\n",
              "             '8': 27,\n",
              "             'T': 28,\n",
              "             'k': 29,\n",
              "             'E': 30,\n",
              "             'v': 31,\n",
              "             'S': 32,\n",
              "             '5': 33,\n",
              "             '4': 34,\n",
              "             'C': 35,\n",
              "             'O': 36,\n",
              "             'I': 37,\n",
              "             'N': 38,\n",
              "             '6': 39,\n",
              "             'x': 40,\n",
              "             'A': 41,\n",
              "             '7': 42,\n",
              "             '3': 43,\n",
              "             'R': 44,\n",
              "             '!': 45,\n",
              "             '9': 46,\n",
              "             ',': 47,\n",
              "             'P': 48,\n",
              "             'M': 49,\n",
              "             'W': 50,\n",
              "             'U': 51,\n",
              "             'L': 52,\n",
              "             'H': 53,\n",
              "             'D': 54,\n",
              "             'G': 55,\n",
              "             'F': 56,\n",
              "             'B': 57,\n",
              "             'Y': 58,\n",
              "             '/': 59,\n",
              "             '?': 60,\n",
              "             \"'\": 61,\n",
              "             '£': 62,\n",
              "             '-': 63,\n",
              "             '&': 64,\n",
              "             ':': 65,\n",
              "             'X': 66,\n",
              "             'V': 67,\n",
              "             'z': 68,\n",
              "             'j': 69,\n",
              "             'K': 70,\n",
              "             'J': 71,\n",
              "             ')': 72,\n",
              "             '*': 73,\n",
              "             ';': 74,\n",
              "             '+': 75,\n",
              "             '(': 76,\n",
              "             'q': 77,\n",
              "             'Q': 78,\n",
              "             '\"': 79,\n",
              "             '#': 80,\n",
              "             '=': 81,\n",
              "             '@': 82,\n",
              "             'ü': 83,\n",
              "             'Z': 84,\n",
              "             '>': 85,\n",
              "             '$': 86,\n",
              "             'Ü': 87,\n",
              "             '[': 88,\n",
              "             ']': 89,\n",
              "             '\\x92': 90,\n",
              "             '<': 91,\n",
              "             '_': 92,\n",
              "             '‘': 93,\n",
              "             '%': 94,\n",
              "             '\\x93': 95,\n",
              "             '|': 96,\n",
              "             '…': 97,\n",
              "             'ú': 98,\n",
              "             '–': 99,\n",
              "             '’': 100,\n",
              "             '“': 101,\n",
              "             'é': 102,\n",
              "             '\\\\': 103,\n",
              "             '\\x94': 104,\n",
              "             '^': 105,\n",
              "             '~': 106,\n",
              "             '\\x91': 107,\n",
              "             'É': 108,\n",
              "             'ì': 109})"
            ]
          },
          "execution_count": 15,
          "metadata": {},
          "output_type": "execute_result"
        }
      ],
      "source": [
        "text_field.build_vocab(train_set)\n",
        "text_field.vocab.stoi"
      ]
    },
    {
      "cell_type": "code",
      "execution_count": null,
      "metadata": {
        "id": "TEkvlTBjDTuM",
        "outputId": "3036df9a-ea54-4818-f304-f56dce2c8482"
      },
      "outputs": [
        {
          "data": {
            "text/plain": [
              "['<unk>',\n",
              " '<pad>',\n",
              " ' ',\n",
              " 'e',\n",
              " 'o',\n",
              " 't',\n",
              " 'a',\n",
              " 'n',\n",
              " 'r',\n",
              " 'i',\n",
              " 's',\n",
              " 'l',\n",
              " 'u',\n",
              " 'h',\n",
              " 'd',\n",
              " '0',\n",
              " 'c',\n",
              " '.',\n",
              " 'm',\n",
              " 'y',\n",
              " 'w',\n",
              " 'p',\n",
              " 'g',\n",
              " '1',\n",
              " 'f',\n",
              " 'b',\n",
              " '2',\n",
              " '8',\n",
              " 'T',\n",
              " 'k',\n",
              " 'E',\n",
              " 'v',\n",
              " 'S',\n",
              " '5',\n",
              " '4',\n",
              " 'C',\n",
              " 'O',\n",
              " 'I',\n",
              " 'N',\n",
              " '6',\n",
              " 'x',\n",
              " 'A',\n",
              " '7',\n",
              " '3',\n",
              " 'R',\n",
              " '!',\n",
              " '9',\n",
              " ',',\n",
              " 'P',\n",
              " 'M',\n",
              " 'W',\n",
              " 'U',\n",
              " 'L',\n",
              " 'H',\n",
              " 'D',\n",
              " 'G',\n",
              " 'F',\n",
              " 'B',\n",
              " 'Y',\n",
              " '/',\n",
              " '?',\n",
              " \"'\",\n",
              " '£',\n",
              " '-',\n",
              " '&',\n",
              " ':',\n",
              " 'X',\n",
              " 'V',\n",
              " 'z',\n",
              " 'j',\n",
              " 'K',\n",
              " 'J',\n",
              " ')',\n",
              " '*',\n",
              " ';',\n",
              " '+',\n",
              " '(',\n",
              " 'q',\n",
              " 'Q',\n",
              " '\"',\n",
              " '#',\n",
              " '=',\n",
              " '@',\n",
              " 'ü',\n",
              " 'Z',\n",
              " '>',\n",
              " '$',\n",
              " 'Ü',\n",
              " '[',\n",
              " ']',\n",
              " '\\x92',\n",
              " '<',\n",
              " '_',\n",
              " '‘',\n",
              " '%',\n",
              " '\\x93',\n",
              " '|',\n",
              " '…',\n",
              " 'ú',\n",
              " '–',\n",
              " '’',\n",
              " '“',\n",
              " 'é',\n",
              " '\\\\',\n",
              " '\\x94',\n",
              " '^',\n",
              " '~',\n",
              " '\\x91',\n",
              " 'É',\n",
              " 'ì']"
            ]
          },
          "execution_count": 16,
          "metadata": {},
          "output_type": "execute_result"
        }
      ],
      "source": [
        "text_field.vocab.itos"
      ]
    },
    {
      "cell_type": "markdown",
      "metadata": {
        "id": "o-rrG9emDTuM"
      },
      "source": [
        "`text_field.vocab.stoi` maps each character in ever existed in training set to integer (unique)   \n",
        "`text_field.vocab.itos` is a list of these characters, ordered by their integer identifier (equal to index to this list)"
      ]
    },
    {
      "cell_type": "markdown",
      "metadata": {
        "id": "TC8WVE8Ua90u"
      },
      "source": [
        "### Part (g) [2 pt]\n",
        "\n",
        "The tokens `<unk>` and `<pad>` were not in our SMS text messages.\n",
        "What do these two values represent?"
      ]
    },
    {
      "cell_type": "markdown",
      "source": [
        "`<unk>` means unknown character that is not recognized by build_vocab  \n",
        "`<pad>` means the padding that is added to each sms so they have same length"
      ],
      "metadata": {
        "id": "UzSfRMdeErBw"
      }
    },
    {
      "cell_type": "markdown",
      "metadata": {
        "id": "Ff5CNk7Qa90y"
      },
      "source": [
        "### Part (h) [2 pt]\n",
        "\n",
        "Since text sequences are of variable length, `torchtext` provides a `BucketIterator` data loader,\n",
        "which batches similar length sequences together. The iterator also provides functionalities to\n",
        "pad sequences automatically.\n",
        "\n",
        "Take a look at 10 batches in `train_iter`. What is the maximum length of the\n",
        "input sequence in each batch? How many `<pad>` tokens are used in each of the 10\n",
        "batches?"
      ]
    },
    {
      "cell_type": "code",
      "execution_count": null,
      "metadata": {
        "id": "V8N8qLWOa90y",
        "jupyter": {
          "outputs_hidden": true
        }
      },
      "outputs": [],
      "source": [
        "train_iter = torchtext.data.BucketIterator(train_set,\n",
        "                                           batch_size=32,\n",
        "                                           sort_key=lambda x: len(x.sms), # to minimize padding\n",
        "                                           sort_within_batch=True,        # sort within each batch\n",
        "                                           repeat=False)                  # repeat the iterator for many epochs\n",
        "valid_iter = torchtext.data.BucketIterator(valid_set,\n",
        "                                           batch_size=32,\n",
        "                                           sort_key=lambda x: len(x.sms),\n",
        "                                           sort_within_batch=True,\n",
        "                                           repeat=False)\n",
        "test_iter = torchtext.data.BucketIterator(test_set,\n",
        "                                           batch_size=32,\n",
        "                                           sort_key=lambda x: len(x.sms),\n",
        "                                           sort_within_batch=True,\n",
        "                                           repeat=False)"
      ]
    },
    {
      "cell_type": "code",
      "execution_count": null,
      "metadata": {
        "id": "Qwz-rOaha902",
        "jupyter": {
          "outputs_hidden": true
        },
        "outputId": "0bb93086-e388-485f-fe3a-24a50a3bb4ff"
      },
      "outputs": [
        {
          "name": "stdout",
          "output_type": "stream",
          "text": [
            "[0, 63, 33, 13, 0, 16, 0, 5, 49, 33]\n",
            "[152, 129, 47, 130, 156, 39, 146, 132, 99, 44]\n"
          ]
        }
      ],
      "source": [
        "pad = [0] * 10\n",
        "max_length = [0] * 10\n",
        "\n",
        "for i, batch in enumerate(train_iter):\n",
        "    if (i >= 10):\n",
        "        break\n",
        "\n",
        "    all_sms = batch.sms[0]\n",
        "    max_length[i] = max(len(sms) for sms in all_sms)\n",
        "    pad[i] = sum([sms.eq(text_field.vocab.stoi[\"<pad>\"]).sum().item() for sms in all_sms])\n",
        "\n",
        "print(pad)\n",
        "print(max_length)"
      ]
    },
    {
      "cell_type": "markdown",
      "metadata": {
        "id": "y7HnqP6_a904"
      },
      "source": [
        "## Part 2. Model Building [8 pt]\n",
        "\n",
        "Build a recurrent neural network model, using an architecture of your choosing.\n",
        "Use the one-hot embedding of each character as input to your recurrent network.\n",
        "Use one or more fully-connected layers to make the prediction based on your\n",
        "recurrent network output.\n",
        "\n",
        "Instead of using the RNN output value for the final token, another often used\n",
        "strategy is to max-pool over the entire output array. That is, instead of calling\n",
        "something like:\n",
        "\n",
        "```\n",
        "out, _ = self.rnn(x)\n",
        "self.fc(out[:, -1, :])\n",
        "```\n",
        "\n",
        "where `self.rnn` is an `nn.RNN`, `nn.GRU`, or `nn.LSTM` module, and `self.fc` is a\n",
        "fully-connected\n",
        "layer, we use:\n",
        "\n",
        "```\n",
        "out, _ = self.rnn(x)\n",
        "self.fc(torch.max(out, dim=1)[0])\n",
        "```\n",
        "\n",
        "This works reasonably in practice. An even better alternative is to concatenate the\n",
        "max-pooling and average-pooling of the RNN outputs:\n",
        "\n",
        "```\n",
        "out, _ = self.rnn(x)\n",
        "out = torch.cat([torch.max(out, dim=1)[0],\n",
        "                 torch.mean(out, dim=1)], dim=1)\n",
        "self.fc(out)\n",
        "```\n",
        "\n",
        "We encourage you to try out all these options. The way you pool the RNN outputs\n",
        "is one of the \"hyperparameters\" that you can choose to tune later on."
      ]
    },
    {
      "cell_type": "code",
      "execution_count": null,
      "metadata": {
        "id": "jHl1p_Wwa905",
        "jupyter": {
          "outputs_hidden": true
        },
        "outputId": "779e59d7-3f2d-4678-ba08-cff5868b7739"
      },
      "outputs": [
        {
          "name": "stdout",
          "output_type": "stream",
          "text": [
            "tensor([1., 0., 0., 0., 0., 0., 0., 0., 0., 0.])\n",
            "tensor([0., 1., 0., 0., 0., 0., 0., 0., 0., 0.])\n",
            "tensor([[[0., 1., 0., 0., 0., 0., 0., 0., 0., 0.],\n",
            "         [0., 0., 1., 0., 0., 0., 0., 0., 0., 0.]],\n",
            "\n",
            "        [[0., 0., 0., 1., 0., 0., 0., 0., 0., 0.],\n",
            "         [0., 0., 0., 0., 1., 0., 0., 0., 0., 0.]]])\n"
          ]
        }
      ],
      "source": [
        "# You might find this code helpful for obtaining\n",
        "# PyTorch one-hot vectors.\n",
        "\n",
        "ident = torch.eye(10)\n",
        "print(ident[0]) # one-hot vector\n",
        "print(ident[1]) # one-hot vector\n",
        "x = torch.tensor([[1, 2], [3, 4]])\n",
        "print(ident[x]) # one-hot vectors"
      ]
    },
    {
      "cell_type": "code",
      "execution_count": null,
      "metadata": {
        "id": "4LTQ7zFka909",
        "jupyter": {
          "outputs_hidden": true
        }
      },
      "outputs": [],
      "source": [
        "class RNN(nn.Module):\n",
        "    def __init__(self, input_size, hidden_size, n_layers=1):\n",
        "        super(RNN, self).__init__()\n",
        "        self.ident = torch.eye(input_size)\n",
        "        self.hidden_size = hidden_size\n",
        "        self.rnn = nn.GRU(input_size, hidden_size, n_layers, batch_first=True)\n",
        "        self.fc = nn.Linear(hidden_size, 2) # only 2 class - spam or not spam\n",
        "\n",
        "    # x = batch\n",
        "    def forward(self, x):\n",
        "        input_onehot = torch.stack([self.ident[sms] for sms in x])\n",
        "        out, _ = self.rnn(input_onehot)\n",
        "        out = torch.max(out, dim=1)[0]\n",
        "        out = self.fc(out)\n",
        "        return out"
      ]
    },
    {
      "cell_type": "markdown",
      "metadata": {
        "id": "vKIYPl_Ba90_"
      },
      "source": [
        "## Part 3. Training [16 pt]\n",
        "\n",
        "### Part (a) [4 pt]\n",
        "\n",
        "Complete the `get_accuracy` function, which will compute the\n",
        "accuracy (rate) of your model across a dataset (e.g. validation set).\n",
        "You may modify `torchtext.data.BucketIterator` to make your computation\n",
        "faster."
      ]
    },
    {
      "cell_type": "code",
      "execution_count": null,
      "metadata": {
        "id": "pvNfhGD6a91A",
        "jupyter": {
          "outputs_hidden": true
        }
      },
      "outputs": [],
      "source": [
        "def get_accuracy(model, data):\n",
        "    \"\"\" Compute the accuracy of the `model` across a dataset `data`\n",
        "\n",
        "    Example usage:\n",
        "\n",
        "    >>> model = MyRNN() # to be defined\n",
        "    >>> get_accuracy(model, valid) # the variable `valid` is from above\n",
        "    \"\"\"\n",
        "    correct, total = 0, 0\n",
        "    for sms, labels in data:\n",
        "        pred = model(sms[0]).max(1, keepdim=True)[1]\n",
        "        correct += pred.eq(labels.view_as(pred)).sum().item()\n",
        "        total += labels.shape[0]\n",
        "    return correct / total"
      ]
    },
    {
      "cell_type": "markdown",
      "metadata": {
        "id": "TlxlcAC1a91C"
      },
      "source": [
        "### Part (b) [4 pt]\n",
        "\n",
        "Train your model. Plot the training curve of your final model.\n",
        "Your training curve should have the training/validation loss and\n",
        "accuracy plotted periodically.\n",
        "\n",
        "Note: Not all of your batches will have the same batch size.\n",
        "In particular, if your training set does not divide evenly by\n",
        "your batch size, there will be a batch that is smaller than\n",
        "the rest."
      ]
    },
    {
      "cell_type": "code",
      "execution_count": null,
      "metadata": {
        "id": "CVtf7CJCa91D",
        "jupyter": {
          "outputs_hidden": true
        }
      },
      "outputs": [],
      "source": [
        "import matplotlib.pyplot as plt\n",
        "\n",
        "def train(model, train, valid, num_epochs=5, learning_rate=0.0001):\n",
        "    optimizer = torch.optim.Adam(model.parameters(), lr=learning_rate)\n",
        "    criterion = nn.CrossEntropyLoss()\n",
        "\n",
        "    train_acc = np.zeros(num_epochs)\n",
        "    valid_acc = np.zeros(num_epochs)\n",
        "\n",
        "    for epoch in range(num_epochs):\n",
        "        avg_loss = 0\n",
        "        for sms, labels in train:\n",
        "            optimizer.zero_grad()\n",
        "            pred = model(sms[0])\n",
        "            loss = criterion(pred, labels)\n",
        "            loss.backward()\n",
        "            optimizer.step()\n",
        "\n",
        "        train_acc[epoch] = get_accuracy(model, train)\n",
        "        valid_acc[epoch] = get_accuracy(model, valid)\n",
        "        print((\"Epoch {}: Train accuracy: {}, Validation accuracy: {} \").format(\n",
        "               epoch + 1,\n",
        "               train_acc[epoch],\n",
        "               valid_acc[epoch]))\n",
        "\n",
        "    # plot\n",
        "    plt.title(\"Training vs Validation Accuracy\")\n",
        "    n = len(train_acc) # number of epochs\n",
        "    plt.plot(range(1,n+1), train_acc, label=\"Train\")\n",
        "    plt.plot(range(1,n+1), valid_acc, label=\"Validation\")\n",
        "    plt.xlabel(\"Epoch\")\n",
        "    plt.ylabel(\"Accuracy\")\n",
        "    plt.legend(loc='best')\n",
        "    plt.show()"
      ]
    },
    {
      "cell_type": "code",
      "execution_count": null,
      "metadata": {
        "id": "pyNwDXB1DTuU",
        "outputId": "bdc88f5e-4cb1-4300-9949-f994271033b3"
      },
      "outputs": [
        {
          "name": "stdout",
          "output_type": "stream",
          "text": [
            "Epoch 1: Train accuracy: 0.9310060925407542, Validation accuracy: 0.9452914798206278 \n",
            "Epoch 2: Train accuracy: 0.9247488885229705, Validation accuracy: 0.9004484304932735 \n",
            "Epoch 3: Train accuracy: 0.9069652560513749, Validation accuracy: 0.9596412556053812 \n",
            "Epoch 4: Train accuracy: 0.9008727152972172, Validation accuracy: 0.9614349775784753 \n",
            "Epoch 5: Train accuracy: 0.9104231845875185, Validation accuracy: 0.9650224215246637 \n"
          ]
        },
        {
          "data": {
            "image/png": "[encoded data removed]",
            "text/plain": [
              "<Figure size 432x288 with 1 Axes>"
            ]
          },
          "metadata": {
            "needs_background": "light"
          },
          "output_type": "display_data"
        }
      ],
      "source": [
        "model = RNN(len(text_field.vocab.itos), len(text_field.vocab.itos), n_layers=1)\n",
        "train(model, train_iter, valid_iter, num_epochs=5, learning_rate=0.0001)"
      ]
    },
    {
      "cell_type": "markdown",
      "metadata": {
        "id": "fE3eRkDAa91F"
      },
      "source": [
        "### Part (c) [4 pt]\n",
        "\n",
        "Choose at least 4 hyperparameters to tune. Explain how you tuned the hyperparameters.\n",
        "You don't need to include your training curve for every model you trained.\n",
        "Instead, explain what hyperparemters you tuned, what the best validation accuracy was,\n",
        "and the reasoning behind the hyperparameter decisions you made.\n",
        "\n",
        "For this assignment, you should tune more than just your learning rate and epoch.\n",
        "Choose at least 2 hyperparameters that are unrelated to the optimizer."
      ]
    },
    {
      "cell_type": "markdown",
      "source": [
        "- 1. We observe that the validation accuracy is already very high (0.96). However, the results flutuates by too much, inferring that we should run the training for a longer period of time so that the results (accuracy) are more stable. **Epoch = 15**\n",
        "    - Training accuracy: 0.936604643504034\n",
        "    - Validation accuracy: 0.9757847533632287\n",
        "    \n",
        "- 2. The accuracy slightly increased (last time was already pretty high), but results are definitely more stable, and it is shown that the accuracy reached stable state. We can try and confirm that the model is behaving differently given that the learning rate is higher **Epoch = 15, LR = 0.01**\n",
        "    - Training accuracy: 1.0\n",
        "    - Validation accuracy: 0.9874439461883409\n",
        "    \n",
        "- 3. Even though the accuracy reached peak, there was some significant fluctuations that is caused by too high learning rate. We will return to original learning rate. Now try to adjust the number of each RNN layer (previously 1), trying out with a 2-layer stacked RNN **Num_layers = 2**\n",
        "    - Training accuracy: 0.9767824798287502\n",
        "    - Validation accuracy: 0.9775784753363229\n",
        "    \n",
        "- 4. The results seems stable, with high accuracy, and very much usable. Final change I want to try is to implement the recommended concatenating the max-pooling and average-pooling of the RNN outputs: **RNN_new**\n",
        "    - Training accuracy: 0.9738185410834843\n",
        "    - Validation accuracy: 0.9695067264573991\n",
        "    \n",
        "I choose model 3 because it is the most stable, with very high accuracy."
      ],
      "metadata": {
        "id": "EBz-FNDSE2vX"
      }
    },
    {
      "cell_type": "code",
      "execution_count": null,
      "metadata": {
        "id": "UEZPRFutDTuU",
        "outputId": "a79d86eb-f4fe-4a2c-c710-82d3cc9bb45a"
      },
      "outputs": [
        {
          "name": "stdout",
          "output_type": "stream",
          "text": [
            "Epoch 1: Train accuracy: 0.527251770130084, Validation accuracy: 0.1452914798206278 \n",
            "Epoch 2: Train accuracy: 0.9359459904495308, Validation accuracy: 0.95695067264574 \n",
            "Epoch 3: Train accuracy: 0.9450024699489544, Validation accuracy: 0.9668161434977578 \n",
            "Epoch 4: Train accuracy: 0.9496130413304792, Validation accuracy: 0.9614349775784753 \n",
            "Epoch 5: Train accuracy: 0.9565288984027663, Validation accuracy: 0.967713004484305 \n",
            "Epoch 6: Train accuracy: 0.9616334595751688, Validation accuracy: 0.9515695067264573 \n",
            "Epoch 7: Train accuracy: 0.964103408529557, Validation accuracy: 0.9632286995515695 \n",
            "Epoch 8: Train accuracy: 0.9662440309566935, Validation accuracy: 0.968609865470852 \n",
            "Epoch 9: Train accuracy: 0.9509303474394862, Validation accuracy: 0.97847533632287 \n",
            "Epoch 10: Train accuracy: 0.9660793676930677, Validation accuracy: 0.9461883408071748 \n",
            "Epoch 11: Train accuracy: 0.9573522147208958, Validation accuracy: 0.97847533632287 \n",
            "Epoch 12: Train accuracy: 0.948295735221472, Validation accuracy: 0.979372197309417 \n",
            "Epoch 13: Train accuracy: 0.9748065206652395, Validation accuracy: 0.9775784753363229 \n",
            "Epoch 14: Train accuracy: 0.9739832043471102, Validation accuracy: 0.9766816143497757 \n",
            "Epoch 15: Train accuracy: 0.9762884900378725, Validation accuracy: 0.9605381165919282 \n"
          ]
        },
        {
          "data": {
            "image/png": "[encoded data removed]",
            "text/plain": [
              "<Figure size 432x288 with 1 Axes>"
            ]
          },
          "metadata": {
            "needs_background": "light"
          },
          "output_type": "display_data"
        }
      ],
      "source": [
        "model_final = RNN(len(text_field.vocab.itos), len(text_field.vocab.itos), n_layers=2)\n",
        "train(model_final, train_iter, valid_iter, num_epochs=15, learning_rate=0.0001)"
      ]
    },
    {
      "cell_type": "code",
      "execution_count": null,
      "metadata": {
        "id": "jqtEusujDTuV",
        "outputId": "47637715-a1d9-46f5-88e3-fcbcd6ad04a5"
      },
      "outputs": [
        {
          "name": "stdout",
          "output_type": "stream",
          "text": [
            "Epoch 1: Train accuracy: 0.5249464844393216, Validation accuracy: 0.14349775784753363 \n",
            "Epoch 2: Train accuracy: 0.9428618475218179, Validation accuracy: 0.95695067264574 \n",
            "Epoch 3: Train accuracy: 0.9601514902025358, Validation accuracy: 0.9632286995515695 \n",
            "Epoch 4: Train accuracy: 0.9624567758932983, Validation accuracy: 0.957847533632287 \n",
            "Epoch 5: Train accuracy: 0.9659147044294418, Validation accuracy: 0.9632286995515695 \n",
            "Epoch 6: Train accuracy: 0.9700312860200889, Validation accuracy: 0.9730941704035875 \n",
            "Epoch 7: Train accuracy: 0.9285361435863659, Validation accuracy: 0.8780269058295964 \n",
            "Epoch 8: Train accuracy: 0.9718425819199736, Validation accuracy: 0.9748878923766816 \n",
            "Epoch 9: Train accuracy: 0.9710192656018443, Validation accuracy: 0.9721973094170404 \n",
            "Epoch 10: Train accuracy: 0.9631154289478018, Validation accuracy: 0.97847533632287 \n",
            "Epoch 11: Train accuracy: 0.964103408529557, Validation accuracy: 0.97847533632287 \n",
            "Epoch 12: Train accuracy: 0.9726658982381031, Validation accuracy: 0.967713004484305 \n",
            "Epoch 13: Train accuracy: 0.9725012349744772, Validation accuracy: 0.9730941704035875 \n",
            "Epoch 14: Train accuracy: 0.9739832043471102, Validation accuracy: 0.9650224215246637 \n",
            "Epoch 15: Train accuracy: 0.9738185410834843, Validation accuracy: 0.9695067264573991 \n"
          ]
        },
        {
          "data": {
            "image/png": "[encoded data removed]",
            "text/plain": [
              "<Figure size 432x288 with 1 Axes>"
            ]
          },
          "metadata": {
            "needs_background": "light"
          },
          "output_type": "display_data"
        }
      ],
      "source": [
        "class RNN_new(nn.Module):\n",
        "    def __init__(self, input_size, hidden_size, n_layers=1):\n",
        "        super(RNN_new, self).__init__()\n",
        "        self.ident = torch.eye(input_size)\n",
        "        self.hidden_size = hidden_size\n",
        "        self.rnn = nn.GRU(input_size, hidden_size, n_layers, batch_first=True)\n",
        "        self.fc = nn.Linear(hidden_size*2, 2) # only 2 class - spam or not spam\n",
        "\n",
        "    # x = batch\n",
        "    def forward(self, x):\n",
        "        input_onehot = torch.stack([self.ident[sms] for sms in x])\n",
        "        out, _ = self.rnn(input_onehot)\n",
        "        out = torch.cat([torch.max(out, dim=1)[0],\n",
        "                         torch.mean(out, dim=1)], dim=1)\n",
        "        out = self.fc(out)\n",
        "        return out\n",
        "\n",
        "model = RNN_new(len(text_field.vocab.itos), len(text_field.vocab.itos), n_layers=2)\n",
        "train(model, train_iter, valid_iter, num_epochs=15, learning_rate=0.0001)"
      ]
    },
    {
      "cell_type": "markdown",
      "metadata": {
        "id": "v7DY56rKa91I"
      },
      "source": [
        "### Part (d) [2 pt]\n",
        "\n",
        "Before we deploy a machine learning model, we usually want to have a better understanding\n",
        "of how our model performs beyond its validation accuracy. An important metric to track is\n",
        "*how well our model performs in certain subsets of the data*.\n",
        "\n",
        "In particular, what is the model's error rate amongst data with negative labels?\n",
        "This is called the **false positive rate**.\n",
        "\n",
        "What about the model's error rate amongst data with positive labels?\n",
        "This is called the **false negative rate**.\n",
        "\n",
        "Report your final model's false positive and false negative rate across the\n",
        "validation set."
      ]
    },
    {
      "cell_type": "code",
      "execution_count": null,
      "metadata": {
        "id": "7ggbQSdba91J",
        "jupyter": {
          "outputs_hidden": true
        }
      },
      "outputs": [],
      "source": [
        "# Create a Dataset of only spam validation examples\n",
        "valid_spam = torchtext.data.Dataset(\n",
        "    [e for e in valid_set.examples if e.label == 1],\n",
        "    valid_set.fields)\n",
        "# Create a Dataset of only non-spam validation examples\n",
        "valid_nospam = torchtext.data.Dataset(\n",
        "    [e for e in valid_set.examples if e.label == 0],\n",
        "    valid_set.fields)\n",
        "\n",
        "valid_spam_iter = torchtext.data.BucketIterator(valid_spam,\n",
        "                                               batch_size=32,\n",
        "                                               sort_key=lambda x: len(x.sms),\n",
        "                                               sort_within_batch=True,\n",
        "                                               repeat=False)\n",
        "valid_nospam_iter = torchtext.data.BucketIterator(valid_nospam,\n",
        "                                               batch_size=32,\n",
        "                                               sort_key=lambda x: len(x.sms),\n",
        "                                               sort_within_batch=True,\n",
        "                                               repeat=False)"
      ]
    },
    {
      "cell_type": "code",
      "execution_count": null,
      "metadata": {
        "id": "8m8gwkzaDTuV",
        "outputId": "873642ee-805c-4138-a325-2b26bb501179"
      },
      "outputs": [
        {
          "name": "stdout",
          "output_type": "stream",
          "text": [
            "0.03858185610010423\n",
            "0.019230769230769273\n"
          ]
        }
      ],
      "source": [
        "false_positive = 1 - get_accuracy(model_final, valid_nospam_iter)\n",
        "false_negative = 1 - get_accuracy(model_final, valid_spam_iter)\n",
        "print(false_positive)\n",
        "print(false_negative)"
      ]
    },
    {
      "cell_type": "markdown",
      "metadata": {
        "id": "N1iRteb3a91O"
      },
      "source": [
        "### Part (e) [2 pt]\n",
        "\n",
        "The impact of a false positive vs a false negative can be drastically different.\n",
        "If our spam detection algorithm was deployed on your phone, what is the impact\n",
        "of a false positive on the phone's user? What is the impact of a false negative?"
      ]
    },
    {
      "cell_type": "code",
      "metadata": {
        "id": "hFLUOJTGa91Q",
        "jupyter": {
          "outputs_hidden": true
        }
      },
      "source": [
        "- False negative in this case would block spam messages on the user's phone (ok)\n",
        "- Flase positive in this case would block valid messages on the user's phone (dangerous!)"
      ],
      "execution_count": null,
      "outputs": []
    },
    {
      "cell_type": "markdown",
      "metadata": {
        "id": "Gznefulsa91V"
      },
      "source": [
        "## Part 4. Evaluation [11 pt]\n",
        "\n",
        "### Part (a) [1 pt]\n",
        "\n",
        "Report the final test accuracy of your model."
      ]
    },
    {
      "cell_type": "code",
      "execution_count": null,
      "metadata": {
        "id": "D5L5D-A1a91W",
        "jupyter": {
          "outputs_hidden": true
        },
        "outputId": "ac15a12f-5d4f-40b6-b4b3-51bdd73f35a6"
      },
      "outputs": [
        {
          "data": {
            "text/plain": [
              "0.973967684021544"
            ]
          },
          "execution_count": 40,
          "metadata": {},
          "output_type": "execute_result"
        }
      ],
      "source": [
        "get_accuracy(model_final, test_iter)"
      ]
    },
    {
      "cell_type": "markdown",
      "metadata": {
        "id": "6Hjmd8rca91Y"
      },
      "source": [
        "### Part (b) [3 pt]\n",
        "\n",
        "Report the false positive rate and false negative rate of your model across the test set."
      ]
    },
    {
      "cell_type": "code",
      "execution_count": null,
      "metadata": {
        "id": "GFiAKztJa91Z",
        "jupyter": {
          "outputs_hidden": true
        },
        "outputId": "794b17ed-f40a-4521-f634-e26f6bff3b25"
      },
      "outputs": [
        {
          "name": "stdout",
          "output_type": "stream",
          "text": [
            "0.026584867075664653\n",
            "0.044117647058823484\n"
          ]
        }
      ],
      "source": [
        "test_spam = torchtext.data.Dataset(\n",
        "    [e for e in test_set.examples if e.label == 1],\n",
        "    test_set.fields)\n",
        "test_nospam = torchtext.data.Dataset(\n",
        "    [e for e in test_set.examples if e.label == 0],\n",
        "    test_set.fields)\n",
        "\n",
        "test_spam_iter = torchtext.data.BucketIterator(test_spam,\n",
        "                                           batch_size=32,\n",
        "                                           sort_key=lambda x: len(x.sms),\n",
        "                                           sort_within_batch=True,\n",
        "                                           repeat=False)\n",
        "\n",
        "test_nospam_iter = torchtext.data.BucketIterator(test_nospam,\n",
        "                                           batch_size=32,\n",
        "                                           sort_key=lambda x: len(x.sms),\n",
        "                                           sort_within_batch=True,\n",
        "                                           repeat=False)\n",
        "\n",
        "false_positive = 1 - get_accuracy(model_final, test_nospam_iter)\n",
        "false_negative = 1 - get_accuracy(model_final, test_spam_iter)\n",
        "print(false_positive)\n",
        "print(false_negative)"
      ]
    },
    {
      "cell_type": "markdown",
      "metadata": {
        "id": "0jGHtQFpa91b"
      },
      "source": [
        "### Part (c) [3 pt]\n",
        "\n",
        "What is your model's prediction of the **probability** that\n",
        "the SMS message \"machine learning is sooo cool!\" is spam?\n",
        "\n",
        "Hint: To begin, use `text_field.vocab.stoi` to look up the index\n",
        "of each character in the vocabulary."
      ]
    },
    {
      "cell_type": "code",
      "execution_count": null,
      "metadata": {
        "id": "h_2nSJq8a91b",
        "jupyter": {
          "outputs_hidden": true
        },
        "outputId": "7800a5fe-26db-43e3-be62-a6b71673bb58"
      },
      "outputs": [
        {
          "data": {
            "text/plain": [
              "0.10677974671125412"
            ]
          },
          "execution_count": 44,
          "metadata": {},
          "output_type": "execute_result"
        }
      ],
      "source": [
        "msg = \"machine learning is sooo cool!\"\n",
        "x = torch.stack([torch.tensor(text_field.vocab.stoi[char]) for char in msg]).unsqueeze_(0)\n",
        "\n",
        "result = F.softmax(model_final(x), dim=1)[0][1].item()\n",
        "print(result)"
      ]
    },
    {
      "cell_type": "markdown",
      "metadata": {
        "id": "QD1zgYJpa91f"
      },
      "source": [
        "### Part (d) [4 pt]\n",
        "\n",
        "Do you think detecting spam is an easy or difficult task?\n",
        "\n",
        "Since machine learning models are expensive to train and deploy, it is very\n",
        "important to compare our models against baseline models: a simple\n",
        "model that is easy to build and inexpensive to run that we can compare our\n",
        "recurrent neural network model against.\n",
        "\n",
        "Explain how you might build a simple baseline model. This baseline model\n",
        "can be a simple neural network (with very few weights), a hand-written algorithm,\n",
        "or any other strategy that is easy to build and test.\n",
        "\n",
        "**Do not actually build a baseline model. Instead, provide instructions on\n",
        "how to build it.**"
      ]
    },
    {
      "cell_type": "markdown",
      "source": [
        "I think that spam detection is more easier than other more sophisticated DL tasks, such as generating texts, predicting the stock market. There has been various models for spam detection, such as Multilayer Perceptron Neural Networks (MLPNNs) or Radial Base Function Neural Networks (RBFNN).\n",
        "\n",
        "For a baseline model, we can use a simple heuristic engine. We can pre-determine a set of \"suspicious\" words, such as \"deal\", \"sale\", \"free\", \"sign up\", and then determine how many times such words occur in our message, rate them by points, and determine a threshold for deciding whether a message is spam or not."
      ],
      "metadata": {
        "id": "hvVzt0U8E6x4"
      }
    }
  ],
  "metadata": {
    "colab": {
      "provenance": []
    },
    "kernelspec": {
      "display_name": "Python 3 (ipykernel)",
      "language": "python",
      "name": "python3"
    },
    "language_info": {
      "codemirror_mode": {
        "name": "ipython",
        "version": 3
      },
      "file_extension": ".py",
      "mimetype": "text/x-python",
      "name": "python",
      "nbconvert_exporter": "python",
      "pygments_lexer": "ipython3",
      "version": "3.9.12"
    }
  },
  "nbformat": 4,
  "nbformat_minor": 0
}